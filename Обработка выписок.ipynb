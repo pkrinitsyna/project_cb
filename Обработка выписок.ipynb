{
 "cells": [
  {
   "cell_type": "code",
   "id": "initial_id",
   "metadata": {
    "collapsed": true,
    "ExecuteTime": {
     "end_time": "2025-06-10T13:50:39.248048Z",
     "start_time": "2025-06-10T13:50:39.237468Z"
    }
   },
   "source": [
    "import pandas as pd\n",
    "import os\n",
    "import matplotlib.pyplot as plt\n",
    "import seaborn as sns\n",
    "import datetime\n",
    "import math"
   ],
   "outputs": [],
   "execution_count": 1
  },
  {
   "metadata": {
    "ExecuteTime": {
     "end_time": "2025-06-10T13:50:39.570504Z",
     "start_time": "2025-06-10T13:50:39.426128Z"
    }
   },
   "cell_type": "code",
   "source": [
    "def extract_number(num: str) -> float:\n",
    "    new_num = ''\n",
    "    for sym in num:\n",
    "        if sym.isdigit() or sym == '.':\n",
    "            new_num += sym\n",
    "    return float(new_num)"
   ],
   "id": "3c7b335135d37bfe",
   "outputs": [],
   "execution_count": 2
  },
  {
   "metadata": {
    "ExecuteTime": {
     "end_time": "2025-06-10T13:50:41.767105Z",
     "start_time": "2025-06-10T13:50:39.750254Z"
    }
   },
   "cell_type": "code",
   "source": [
    "path = r\".\\выписки\"\n",
    "\n",
    "combined_data = pd.DataFrame(columns=['Дата операции', 'Сумма', 'Описание', 'Номер карты', 'Категория'])\n",
    "for fl in os.listdir(path):\n",
    "    if '.xlsx' in fl:\n",
    "        df = pd.read_excel(path + '\\\\' + fl, names=['Дата операции', 'Сумма', 'Описание', 'Номер карты', 'Категория'], engine='openpyxl')\n",
    "        combined_data = pd.concat([combined_data, df])"
   ],
   "id": "224baec4d3cd2556",
   "outputs": [
    {
     "name": "stderr",
     "output_type": "stream",
     "text": [
      "C:\\Users\\polle\\AppData\\Local\\Temp\\ipykernel_10376\\2541246451.py:7: FutureWarning: The behavior of DataFrame concatenation with empty or all-NA entries is deprecated. In a future version, this will no longer exclude empty or all-NA columns when determining the result dtypes. To retain the old behavior, exclude the relevant entries before the concat operation.\n",
      "  combined_data = pd.concat([combined_data, df])\n"
     ]
    }
   ],
   "execution_count": 3
  },
  {
   "metadata": {
    "ExecuteTime": {
     "end_time": "2025-06-10T13:50:43.668498Z",
     "start_time": "2025-06-10T13:50:43.616559Z"
    }
   },
   "cell_type": "code",
   "source": "combined_data",
   "id": "b52aec2afd70e1",
   "outputs": [
    {
     "data": {
      "text/plain": [
       "          Дата операции        Сумма  \\\n",
       "0   2024-12-26 21:57:00    -450.00 ₽   \n",
       "1   2024-12-26 20:10:00    -900.00 ₽   \n",
       "2   2024-12-26 16:22:00    -245.00 ₽   \n",
       "3   2024-12-25 21:52:00  -2 912.65 ₽   \n",
       "4   2024-12-25 21:52:00  +2 912.65 ₽   \n",
       "..                  ...          ...   \n",
       "672 2024-01-05 18:25:00    -458.00 ₽   \n",
       "673 2024-01-05 18:16:00    -388.00 ₽   \n",
       "674 2024-01-05 08:05:00  +5 000.00 ₽   \n",
       "675 2024-01-04 06:51:00    -199.00 ₽   \n",
       "676 2024-01-01 21:45:00    -250.00 ₽   \n",
       "\n",
       "                                             Описание Номер карты Категория  \n",
       "0               Оплата в IP Gobechiya E.S. Moskva RUS         908       NaN  \n",
       "1      Внешний перевод по номеру телефона 79160661824        6877       NaN  \n",
       "2               Оплата в STOLOVAYA EK.FAK. MOSCOW RUS         908       NaN  \n",
       "3        Перевод. Подарок по акции на брокерский счёт        6877       NaN  \n",
       "4     Пополнение. Подарок по акции на брокерский счёт        6877       NaN  \n",
       "..                                                ...         ...       ...  \n",
       "672                 Оплата в wildberries Podol'sk RUS        4912       NaN  \n",
       "673  Внешний перевод по номеру телефона\\n+79294189436        4912       NaN  \n",
       "674              Пополнение. Система быстрых платежей        4912       NaN  \n",
       "675              Оплата услуг Tinkoff.tinkoff- bundle        4912       NaN  \n",
       "676                      Оплата услуг Autopay.Megafon        4912       NaN  \n",
       "\n",
       "[1923 rows x 5 columns]"
      ],
      "text/html": [
       "<div>\n",
       "<style scoped>\n",
       "    .dataframe tbody tr th:only-of-type {\n",
       "        vertical-align: middle;\n",
       "    }\n",
       "\n",
       "    .dataframe tbody tr th {\n",
       "        vertical-align: top;\n",
       "    }\n",
       "\n",
       "    .dataframe thead th {\n",
       "        text-align: right;\n",
       "    }\n",
       "</style>\n",
       "<table border=\"1\" class=\"dataframe\">\n",
       "  <thead>\n",
       "    <tr style=\"text-align: right;\">\n",
       "      <th></th>\n",
       "      <th>Дата операции</th>\n",
       "      <th>Сумма</th>\n",
       "      <th>Описание</th>\n",
       "      <th>Номер карты</th>\n",
       "      <th>Категория</th>\n",
       "    </tr>\n",
       "  </thead>\n",
       "  <tbody>\n",
       "    <tr>\n",
       "      <th>0</th>\n",
       "      <td>2024-12-26 21:57:00</td>\n",
       "      <td>-450.00 ₽</td>\n",
       "      <td>Оплата в IP Gobechiya E.S. Moskva RUS</td>\n",
       "      <td>908</td>\n",
       "      <td>NaN</td>\n",
       "    </tr>\n",
       "    <tr>\n",
       "      <th>1</th>\n",
       "      <td>2024-12-26 20:10:00</td>\n",
       "      <td>-900.00 ₽</td>\n",
       "      <td>Внешний перевод по номеру телефона 79160661824</td>\n",
       "      <td>6877</td>\n",
       "      <td>NaN</td>\n",
       "    </tr>\n",
       "    <tr>\n",
       "      <th>2</th>\n",
       "      <td>2024-12-26 16:22:00</td>\n",
       "      <td>-245.00 ₽</td>\n",
       "      <td>Оплата в STOLOVAYA EK.FAK. MOSCOW RUS</td>\n",
       "      <td>908</td>\n",
       "      <td>NaN</td>\n",
       "    </tr>\n",
       "    <tr>\n",
       "      <th>3</th>\n",
       "      <td>2024-12-25 21:52:00</td>\n",
       "      <td>-2 912.65 ₽</td>\n",
       "      <td>Перевод. Подарок по акции на брокерский счёт</td>\n",
       "      <td>6877</td>\n",
       "      <td>NaN</td>\n",
       "    </tr>\n",
       "    <tr>\n",
       "      <th>4</th>\n",
       "      <td>2024-12-25 21:52:00</td>\n",
       "      <td>+2 912.65 ₽</td>\n",
       "      <td>Пополнение. Подарок по акции на брокерский счёт</td>\n",
       "      <td>6877</td>\n",
       "      <td>NaN</td>\n",
       "    </tr>\n",
       "    <tr>\n",
       "      <th>...</th>\n",
       "      <td>...</td>\n",
       "      <td>...</td>\n",
       "      <td>...</td>\n",
       "      <td>...</td>\n",
       "      <td>...</td>\n",
       "    </tr>\n",
       "    <tr>\n",
       "      <th>672</th>\n",
       "      <td>2024-01-05 18:25:00</td>\n",
       "      <td>-458.00 ₽</td>\n",
       "      <td>Оплата в wildberries Podol'sk RUS</td>\n",
       "      <td>4912</td>\n",
       "      <td>NaN</td>\n",
       "    </tr>\n",
       "    <tr>\n",
       "      <th>673</th>\n",
       "      <td>2024-01-05 18:16:00</td>\n",
       "      <td>-388.00 ₽</td>\n",
       "      <td>Внешний перевод по номеру телефона\\n+79294189436</td>\n",
       "      <td>4912</td>\n",
       "      <td>NaN</td>\n",
       "    </tr>\n",
       "    <tr>\n",
       "      <th>674</th>\n",
       "      <td>2024-01-05 08:05:00</td>\n",
       "      <td>+5 000.00 ₽</td>\n",
       "      <td>Пополнение. Система быстрых платежей</td>\n",
       "      <td>4912</td>\n",
       "      <td>NaN</td>\n",
       "    </tr>\n",
       "    <tr>\n",
       "      <th>675</th>\n",
       "      <td>2024-01-04 06:51:00</td>\n",
       "      <td>-199.00 ₽</td>\n",
       "      <td>Оплата услуг Tinkoff.tinkoff- bundle</td>\n",
       "      <td>4912</td>\n",
       "      <td>NaN</td>\n",
       "    </tr>\n",
       "    <tr>\n",
       "      <th>676</th>\n",
       "      <td>2024-01-01 21:45:00</td>\n",
       "      <td>-250.00 ₽</td>\n",
       "      <td>Оплата услуг Autopay.Megafon</td>\n",
       "      <td>4912</td>\n",
       "      <td>NaN</td>\n",
       "    </tr>\n",
       "  </tbody>\n",
       "</table>\n",
       "<p>1923 rows × 5 columns</p>\n",
       "</div>"
      ]
     },
     "execution_count": 4,
     "metadata": {},
     "output_type": "execute_result"
    }
   ],
   "execution_count": 4
  },
  {
   "metadata": {
    "ExecuteTime": {
     "end_time": "2025-06-10T13:50:44.417539Z",
     "start_time": "2025-06-10T13:50:44.351808Z"
    }
   },
   "cell_type": "code",
   "source": "combined_data['Поступление'] = combined_data['Сумма'].apply(lambda val: extract_number(str(val)) if str(val).find('+') != -1 else 0)",
   "id": "fa8170641e5dbeee",
   "outputs": [],
   "execution_count": 5
  },
  {
   "metadata": {
    "ExecuteTime": {
     "end_time": "2025-06-10T13:50:45.077390Z",
     "start_time": "2025-06-10T13:50:45.057325Z"
    }
   },
   "cell_type": "code",
   "source": "combined_data['Расход'] = combined_data['Сумма'].apply(lambda val: extract_number(str(val)) if str(val).find('-') != -1 else 0)",
   "id": "91a60aaa09525b3c",
   "outputs": [],
   "execution_count": 6
  },
  {
   "metadata": {
    "ExecuteTime": {
     "end_time": "2025-06-10T13:52:44.799439Z",
     "start_time": "2025-06-10T13:52:44.105187Z"
    }
   },
   "cell_type": "code",
   "source": "combined_data = combined_data.drop('Сумма', axis=1)",
   "id": "17b3fe652f471643",
   "outputs": [],
   "execution_count": 22
  },
  {
   "metadata": {},
   "cell_type": "markdown",
   "source": "### Общая таблица данных",
   "id": "6b6e0722688d0f1e"
  },
  {
   "metadata": {
    "ExecuteTime": {
     "end_time": "2025-06-10T13:52:53.337588Z",
     "start_time": "2025-06-10T13:52:53.183362Z"
    }
   },
   "cell_type": "code",
   "source": [
    "only_hours = combined_data['Дата операции'].dt.hour\n",
    "combined_data['Время операции'] = only_hours\n",
    "combined_data"
   ],
   "id": "8226abd91c9c5c19",
   "outputs": [
    {
     "data": {
      "text/plain": [
       "          Дата операции                                          Описание  \\\n",
       "0   2024-12-26 21:57:00             Оплата в IP Gobechiya E.S. Moskva RUS   \n",
       "1   2024-12-26 20:10:00    Внешний перевод по номеру телефона 79160661824   \n",
       "2   2024-12-26 16:22:00             Оплата в STOLOVAYA EK.FAK. MOSCOW RUS   \n",
       "3   2024-12-25 21:52:00      Перевод. Подарок по акции на брокерский счёт   \n",
       "4   2024-12-25 21:52:00   Пополнение. Подарок по акции на брокерский счёт   \n",
       "..                  ...                                               ...   \n",
       "672 2024-01-05 18:25:00                 Оплата в wildberries Podol'sk RUS   \n",
       "673 2024-01-05 18:16:00  Внешний перевод по номеру телефона\\n+79294189436   \n",
       "674 2024-01-05 08:05:00              Пополнение. Система быстрых платежей   \n",
       "675 2024-01-04 06:51:00              Оплата услуг Tinkoff.tinkoff- bundle   \n",
       "676 2024-01-01 21:45:00                      Оплата услуг Autopay.Megafon   \n",
       "\n",
       "    Номер карты Категория  Поступление   Расход  Время операции Время суток  \n",
       "0           908       NaN         0.00   450.00              21       Вечер  \n",
       "1          6877       NaN         0.00   900.00              20       Вечер  \n",
       "2           908       NaN         0.00   245.00              16        День  \n",
       "3          6877       NaN         0.00  2912.65              21       Вечер  \n",
       "4          6877       NaN      2912.65     0.00              21       Вечер  \n",
       "..          ...       ...          ...      ...             ...         ...  \n",
       "672        4912       NaN         0.00   458.00              18        День  \n",
       "673        4912       NaN         0.00   388.00              18        День  \n",
       "674        4912       NaN      5000.00     0.00               8        Утро  \n",
       "675        4912       NaN         0.00   199.00               6        Ночь  \n",
       "676        4912       NaN         0.00   250.00              21       Вечер  \n",
       "\n",
       "[1923 rows x 8 columns]"
      ],
      "text/html": [
       "<div>\n",
       "<style scoped>\n",
       "    .dataframe tbody tr th:only-of-type {\n",
       "        vertical-align: middle;\n",
       "    }\n",
       "\n",
       "    .dataframe tbody tr th {\n",
       "        vertical-align: top;\n",
       "    }\n",
       "\n",
       "    .dataframe thead th {\n",
       "        text-align: right;\n",
       "    }\n",
       "</style>\n",
       "<table border=\"1\" class=\"dataframe\">\n",
       "  <thead>\n",
       "    <tr style=\"text-align: right;\">\n",
       "      <th></th>\n",
       "      <th>Дата операции</th>\n",
       "      <th>Описание</th>\n",
       "      <th>Номер карты</th>\n",
       "      <th>Категория</th>\n",
       "      <th>Поступление</th>\n",
       "      <th>Расход</th>\n",
       "      <th>Время операции</th>\n",
       "      <th>Время суток</th>\n",
       "    </tr>\n",
       "  </thead>\n",
       "  <tbody>\n",
       "    <tr>\n",
       "      <th>0</th>\n",
       "      <td>2024-12-26 21:57:00</td>\n",
       "      <td>Оплата в IP Gobechiya E.S. Moskva RUS</td>\n",
       "      <td>908</td>\n",
       "      <td>NaN</td>\n",
       "      <td>0.00</td>\n",
       "      <td>450.00</td>\n",
       "      <td>21</td>\n",
       "      <td>Вечер</td>\n",
       "    </tr>\n",
       "    <tr>\n",
       "      <th>1</th>\n",
       "      <td>2024-12-26 20:10:00</td>\n",
       "      <td>Внешний перевод по номеру телефона 79160661824</td>\n",
       "      <td>6877</td>\n",
       "      <td>NaN</td>\n",
       "      <td>0.00</td>\n",
       "      <td>900.00</td>\n",
       "      <td>20</td>\n",
       "      <td>Вечер</td>\n",
       "    </tr>\n",
       "    <tr>\n",
       "      <th>2</th>\n",
       "      <td>2024-12-26 16:22:00</td>\n",
       "      <td>Оплата в STOLOVAYA EK.FAK. MOSCOW RUS</td>\n",
       "      <td>908</td>\n",
       "      <td>NaN</td>\n",
       "      <td>0.00</td>\n",
       "      <td>245.00</td>\n",
       "      <td>16</td>\n",
       "      <td>День</td>\n",
       "    </tr>\n",
       "    <tr>\n",
       "      <th>3</th>\n",
       "      <td>2024-12-25 21:52:00</td>\n",
       "      <td>Перевод. Подарок по акции на брокерский счёт</td>\n",
       "      <td>6877</td>\n",
       "      <td>NaN</td>\n",
       "      <td>0.00</td>\n",
       "      <td>2912.65</td>\n",
       "      <td>21</td>\n",
       "      <td>Вечер</td>\n",
       "    </tr>\n",
       "    <tr>\n",
       "      <th>4</th>\n",
       "      <td>2024-12-25 21:52:00</td>\n",
       "      <td>Пополнение. Подарок по акции на брокерский счёт</td>\n",
       "      <td>6877</td>\n",
       "      <td>NaN</td>\n",
       "      <td>2912.65</td>\n",
       "      <td>0.00</td>\n",
       "      <td>21</td>\n",
       "      <td>Вечер</td>\n",
       "    </tr>\n",
       "    <tr>\n",
       "      <th>...</th>\n",
       "      <td>...</td>\n",
       "      <td>...</td>\n",
       "      <td>...</td>\n",
       "      <td>...</td>\n",
       "      <td>...</td>\n",
       "      <td>...</td>\n",
       "      <td>...</td>\n",
       "      <td>...</td>\n",
       "    </tr>\n",
       "    <tr>\n",
       "      <th>672</th>\n",
       "      <td>2024-01-05 18:25:00</td>\n",
       "      <td>Оплата в wildberries Podol'sk RUS</td>\n",
       "      <td>4912</td>\n",
       "      <td>NaN</td>\n",
       "      <td>0.00</td>\n",
       "      <td>458.00</td>\n",
       "      <td>18</td>\n",
       "      <td>День</td>\n",
       "    </tr>\n",
       "    <tr>\n",
       "      <th>673</th>\n",
       "      <td>2024-01-05 18:16:00</td>\n",
       "      <td>Внешний перевод по номеру телефона\\n+79294189436</td>\n",
       "      <td>4912</td>\n",
       "      <td>NaN</td>\n",
       "      <td>0.00</td>\n",
       "      <td>388.00</td>\n",
       "      <td>18</td>\n",
       "      <td>День</td>\n",
       "    </tr>\n",
       "    <tr>\n",
       "      <th>674</th>\n",
       "      <td>2024-01-05 08:05:00</td>\n",
       "      <td>Пополнение. Система быстрых платежей</td>\n",
       "      <td>4912</td>\n",
       "      <td>NaN</td>\n",
       "      <td>5000.00</td>\n",
       "      <td>0.00</td>\n",
       "      <td>8</td>\n",
       "      <td>Утро</td>\n",
       "    </tr>\n",
       "    <tr>\n",
       "      <th>675</th>\n",
       "      <td>2024-01-04 06:51:00</td>\n",
       "      <td>Оплата услуг Tinkoff.tinkoff- bundle</td>\n",
       "      <td>4912</td>\n",
       "      <td>NaN</td>\n",
       "      <td>0.00</td>\n",
       "      <td>199.00</td>\n",
       "      <td>6</td>\n",
       "      <td>Ночь</td>\n",
       "    </tr>\n",
       "    <tr>\n",
       "      <th>676</th>\n",
       "      <td>2024-01-01 21:45:00</td>\n",
       "      <td>Оплата услуг Autopay.Megafon</td>\n",
       "      <td>4912</td>\n",
       "      <td>NaN</td>\n",
       "      <td>0.00</td>\n",
       "      <td>250.00</td>\n",
       "      <td>21</td>\n",
       "      <td>Вечер</td>\n",
       "    </tr>\n",
       "  </tbody>\n",
       "</table>\n",
       "<p>1923 rows × 8 columns</p>\n",
       "</div>"
      ]
     },
     "execution_count": 23,
     "metadata": {},
     "output_type": "execute_result"
    }
   ],
   "execution_count": 23
  },
  {
   "metadata": {},
   "cell_type": "markdown",
   "source": "### Когда больше всего тратят",
   "id": "689782e4f64ab8a0"
  },
  {
   "metadata": {
    "ExecuteTime": {
     "end_time": "2025-06-10T13:52:53.867348Z",
     "start_time": "2025-06-10T13:52:53.814158Z"
    }
   },
   "cell_type": "code",
   "source": [
    "def time_of_the_day(x):\n",
    "    if 6 < x <= 12:\n",
    "        return 'Утро'\n",
    "    elif 12 < x <= 18:\n",
    "        return 'День'\n",
    "    elif 18 < x <= 22:\n",
    "        return 'Вечер'\n",
    "    else:\n",
    "        return 'Ночь'\n",
    "\n",
    "combined_data['Время суток'] = combined_data['Время операции'].apply(lambda x: time_of_the_day(x))\n",
    "combined_data"
   ],
   "id": "8b3576afe589576",
   "outputs": [
    {
     "data": {
      "text/plain": [
       "          Дата операции                                          Описание  \\\n",
       "0   2024-12-26 21:57:00             Оплата в IP Gobechiya E.S. Moskva RUS   \n",
       "1   2024-12-26 20:10:00    Внешний перевод по номеру телефона 79160661824   \n",
       "2   2024-12-26 16:22:00             Оплата в STOLOVAYA EK.FAK. MOSCOW RUS   \n",
       "3   2024-12-25 21:52:00      Перевод. Подарок по акции на брокерский счёт   \n",
       "4   2024-12-25 21:52:00   Пополнение. Подарок по акции на брокерский счёт   \n",
       "..                  ...                                               ...   \n",
       "672 2024-01-05 18:25:00                 Оплата в wildberries Podol'sk RUS   \n",
       "673 2024-01-05 18:16:00  Внешний перевод по номеру телефона\\n+79294189436   \n",
       "674 2024-01-05 08:05:00              Пополнение. Система быстрых платежей   \n",
       "675 2024-01-04 06:51:00              Оплата услуг Tinkoff.tinkoff- bundle   \n",
       "676 2024-01-01 21:45:00                      Оплата услуг Autopay.Megafon   \n",
       "\n",
       "    Номер карты Категория  Поступление   Расход  Время операции Время суток  \n",
       "0           908       NaN         0.00   450.00              21       Вечер  \n",
       "1          6877       NaN         0.00   900.00              20       Вечер  \n",
       "2           908       NaN         0.00   245.00              16        День  \n",
       "3          6877       NaN         0.00  2912.65              21       Вечер  \n",
       "4          6877       NaN      2912.65     0.00              21       Вечер  \n",
       "..          ...       ...          ...      ...             ...         ...  \n",
       "672        4912       NaN         0.00   458.00              18        День  \n",
       "673        4912       NaN         0.00   388.00              18        День  \n",
       "674        4912       NaN      5000.00     0.00               8        Утро  \n",
       "675        4912       NaN         0.00   199.00               6        Ночь  \n",
       "676        4912       NaN         0.00   250.00              21       Вечер  \n",
       "\n",
       "[1923 rows x 8 columns]"
      ],
      "text/html": [
       "<div>\n",
       "<style scoped>\n",
       "    .dataframe tbody tr th:only-of-type {\n",
       "        vertical-align: middle;\n",
       "    }\n",
       "\n",
       "    .dataframe tbody tr th {\n",
       "        vertical-align: top;\n",
       "    }\n",
       "\n",
       "    .dataframe thead th {\n",
       "        text-align: right;\n",
       "    }\n",
       "</style>\n",
       "<table border=\"1\" class=\"dataframe\">\n",
       "  <thead>\n",
       "    <tr style=\"text-align: right;\">\n",
       "      <th></th>\n",
       "      <th>Дата операции</th>\n",
       "      <th>Описание</th>\n",
       "      <th>Номер карты</th>\n",
       "      <th>Категория</th>\n",
       "      <th>Поступление</th>\n",
       "      <th>Расход</th>\n",
       "      <th>Время операции</th>\n",
       "      <th>Время суток</th>\n",
       "    </tr>\n",
       "  </thead>\n",
       "  <tbody>\n",
       "    <tr>\n",
       "      <th>0</th>\n",
       "      <td>2024-12-26 21:57:00</td>\n",
       "      <td>Оплата в IP Gobechiya E.S. Moskva RUS</td>\n",
       "      <td>908</td>\n",
       "      <td>NaN</td>\n",
       "      <td>0.00</td>\n",
       "      <td>450.00</td>\n",
       "      <td>21</td>\n",
       "      <td>Вечер</td>\n",
       "    </tr>\n",
       "    <tr>\n",
       "      <th>1</th>\n",
       "      <td>2024-12-26 20:10:00</td>\n",
       "      <td>Внешний перевод по номеру телефона 79160661824</td>\n",
       "      <td>6877</td>\n",
       "      <td>NaN</td>\n",
       "      <td>0.00</td>\n",
       "      <td>900.00</td>\n",
       "      <td>20</td>\n",
       "      <td>Вечер</td>\n",
       "    </tr>\n",
       "    <tr>\n",
       "      <th>2</th>\n",
       "      <td>2024-12-26 16:22:00</td>\n",
       "      <td>Оплата в STOLOVAYA EK.FAK. MOSCOW RUS</td>\n",
       "      <td>908</td>\n",
       "      <td>NaN</td>\n",
       "      <td>0.00</td>\n",
       "      <td>245.00</td>\n",
       "      <td>16</td>\n",
       "      <td>День</td>\n",
       "    </tr>\n",
       "    <tr>\n",
       "      <th>3</th>\n",
       "      <td>2024-12-25 21:52:00</td>\n",
       "      <td>Перевод. Подарок по акции на брокерский счёт</td>\n",
       "      <td>6877</td>\n",
       "      <td>NaN</td>\n",
       "      <td>0.00</td>\n",
       "      <td>2912.65</td>\n",
       "      <td>21</td>\n",
       "      <td>Вечер</td>\n",
       "    </tr>\n",
       "    <tr>\n",
       "      <th>4</th>\n",
       "      <td>2024-12-25 21:52:00</td>\n",
       "      <td>Пополнение. Подарок по акции на брокерский счёт</td>\n",
       "      <td>6877</td>\n",
       "      <td>NaN</td>\n",
       "      <td>2912.65</td>\n",
       "      <td>0.00</td>\n",
       "      <td>21</td>\n",
       "      <td>Вечер</td>\n",
       "    </tr>\n",
       "    <tr>\n",
       "      <th>...</th>\n",
       "      <td>...</td>\n",
       "      <td>...</td>\n",
       "      <td>...</td>\n",
       "      <td>...</td>\n",
       "      <td>...</td>\n",
       "      <td>...</td>\n",
       "      <td>...</td>\n",
       "      <td>...</td>\n",
       "    </tr>\n",
       "    <tr>\n",
       "      <th>672</th>\n",
       "      <td>2024-01-05 18:25:00</td>\n",
       "      <td>Оплата в wildberries Podol'sk RUS</td>\n",
       "      <td>4912</td>\n",
       "      <td>NaN</td>\n",
       "      <td>0.00</td>\n",
       "      <td>458.00</td>\n",
       "      <td>18</td>\n",
       "      <td>День</td>\n",
       "    </tr>\n",
       "    <tr>\n",
       "      <th>673</th>\n",
       "      <td>2024-01-05 18:16:00</td>\n",
       "      <td>Внешний перевод по номеру телефона\\n+79294189436</td>\n",
       "      <td>4912</td>\n",
       "      <td>NaN</td>\n",
       "      <td>0.00</td>\n",
       "      <td>388.00</td>\n",
       "      <td>18</td>\n",
       "      <td>День</td>\n",
       "    </tr>\n",
       "    <tr>\n",
       "      <th>674</th>\n",
       "      <td>2024-01-05 08:05:00</td>\n",
       "      <td>Пополнение. Система быстрых платежей</td>\n",
       "      <td>4912</td>\n",
       "      <td>NaN</td>\n",
       "      <td>5000.00</td>\n",
       "      <td>0.00</td>\n",
       "      <td>8</td>\n",
       "      <td>Утро</td>\n",
       "    </tr>\n",
       "    <tr>\n",
       "      <th>675</th>\n",
       "      <td>2024-01-04 06:51:00</td>\n",
       "      <td>Оплата услуг Tinkoff.tinkoff- bundle</td>\n",
       "      <td>4912</td>\n",
       "      <td>NaN</td>\n",
       "      <td>0.00</td>\n",
       "      <td>199.00</td>\n",
       "      <td>6</td>\n",
       "      <td>Ночь</td>\n",
       "    </tr>\n",
       "    <tr>\n",
       "      <th>676</th>\n",
       "      <td>2024-01-01 21:45:00</td>\n",
       "      <td>Оплата услуг Autopay.Megafon</td>\n",
       "      <td>4912</td>\n",
       "      <td>NaN</td>\n",
       "      <td>0.00</td>\n",
       "      <td>250.00</td>\n",
       "      <td>21</td>\n",
       "      <td>Вечер</td>\n",
       "    </tr>\n",
       "  </tbody>\n",
       "</table>\n",
       "<p>1923 rows × 8 columns</p>\n",
       "</div>"
      ]
     },
     "execution_count": 24,
     "metadata": {},
     "output_type": "execute_result"
    }
   ],
   "execution_count": 24
  },
  {
   "metadata": {
    "ExecuteTime": {
     "end_time": "2025-06-10T13:52:54.896040Z",
     "start_time": "2025-06-10T13:52:54.733564Z"
    }
   },
   "cell_type": "code",
   "source": [
    "t_day = combined_data.groupby(combined_data['Время суток']).size()\n",
    "t_day"
   ],
   "id": "4e1efb1ecb8adc74",
   "outputs": [
    {
     "data": {
      "text/plain": [
       "Время суток\n",
       "Вечер    403\n",
       "День     806\n",
       "Ночь     293\n",
       "Утро     421\n",
       "dtype: int64"
      ]
     },
     "execution_count": 25,
     "metadata": {},
     "output_type": "execute_result"
    }
   ],
   "execution_count": 25
  },
  {
   "metadata": {},
   "cell_type": "markdown",
   "source": [
    "Тратят больше всего днем\n",
    "\n",
    "Рассмотрим на что"
   ],
   "id": "1333f3378aabc3c9"
  },
  {
   "metadata": {
    "ExecuteTime": {
     "end_time": "2025-06-10T13:52:57.065322Z",
     "start_time": "2025-06-10T13:52:56.728264Z"
    }
   },
   "cell_type": "code",
   "source": [
    "d_day = combined_data[combined_data['Время суток'] == 'День']\n",
    "sp = d_day.groupby([d_day['Описание']])['Расход'].sum()\n",
    "top_25 = sp.sort_values()\n",
    "top_25[-1:-25:-1]"
   ],
   "id": "23682add16391c53",
   "outputs": [
    {
     "data": {
      "text/plain": [
       "Описание\n",
       "Внутренний перевод на вклад 3115762583                     299000.00\n",
       "Внутренний перевод на вклад 3123086405                     299000.00\n",
       "Внутренний перевод на договор 8010688122                   174542.42\n",
       "Внутренний перевод на договор 8065554997                    96000.00\n",
       "Raiffeisenbank. Операция по карте ****8988                  75000.00\n",
       "Пополнение брокерского счета                                70193.98\n",
       "Оплата в TVOYA KLINIKA MOSCOW RU                            52724.00\n",
       "Оплата в PEREKRESTOK NIKULINO Gorod Moskva RU               36170.08\n",
       "SBOL. Операция по карте ****8988                            30393.00\n",
       "Внешний перевод по номеру телефона 79294189436              24272.00\n",
       "Оплата в Univeravto Moskva RUS                              24200.00\n",
       "Оплата в PEREKRESTOK NIKULINO MOSCOW RU                     20288.27\n",
       "Оплата в UNIVER. AVTOSHKOLA Gorod Moskva RUS                20000.00\n",
       "Оплата в Paulaner Brauhaus Moskva RUS                       16030.00\n",
       "SBERBANK ONL@IN KARTA-VKLAD. Операция по карте ****8988     14813.11\n",
       "Оплата в GOSTINITSA, KORPUS 8 MOSKVA RU                     12718.20\n",
       "Оплата в Wildberries                                        10048.00\n",
       "SP_PULT.RU MOSCOW RUS. Операция по карте ****8988            9280.00\n",
       "Внешний перевод по номеру телефона 79251068087               8898.33\n",
       "Оплата в STOLOVAYA EK.FAK. MOSCOW RUS                        7720.00\n",
       "Оплата в 2044 KOROLEV 2 KOROLEV RUS                          7692.00\n",
       "Оплата в PEREKRESTOK NIKULINO RU                             7116.05\n",
       "Tинькoфф. Операция по карте ****8988                         6900.00\n",
       "Оплата в ZARINA STAR 2 Moskva RU                             5999.00\n",
       "Name: Расход, dtype: float64"
      ]
     },
     "execution_count": 26,
     "metadata": {},
     "output_type": "execute_result"
    }
   ],
   "execution_count": 26
  },
  {
   "metadata": {},
   "cell_type": "markdown",
   "source": "### Доля больший покупок в общем числе (большие - больше 10 000 рублей)",
   "id": "4402d791223b453"
  },
  {
   "metadata": {
    "ExecuteTime": {
     "end_time": "2025-06-10T13:52:58.503858Z",
     "start_time": "2025-06-10T13:52:58.457648Z"
    }
   },
   "cell_type": "code",
   "source": [
    "larg_exp = len(combined_data[combined_data['Расход'] > 10000]) / len(combined_data['Расход'])\n",
    "round(larg_exp, 4)"
   ],
   "id": "5fbb914625de19ae",
   "outputs": [
    {
     "data": {
      "text/plain": [
       "0.0182"
      ]
     },
     "execution_count": 27,
     "metadata": {},
     "output_type": "execute_result"
    }
   ],
   "execution_count": 27
  },
  {
   "metadata": {},
   "cell_type": "markdown",
   "source": [
    "Доля больших покупок во всех - 1.82%\n",
    "\n",
    " Количество транзакций в день"
   ],
   "id": "c73ede69ebfa9461"
  },
  {
   "metadata": {
    "ExecuteTime": {
     "end_time": "2025-06-10T13:52:59.108257Z",
     "start_time": "2025-06-10T13:52:59.029461Z"
    }
   },
   "cell_type": "code",
   "source": [
    "mean_operations = combined_data['Дата операции'].dt.date.value_counts().mean()\n",
    "round(mean_operations, 2)"
   ],
   "id": "4e1d31bb2a346ade",
   "outputs": [
    {
     "data": {
      "text/plain": [
       "np.float64(5.34)"
      ]
     },
     "execution_count": 28,
     "metadata": {},
     "output_type": "execute_result"
    }
   ],
   "execution_count": 28
  },
  {
   "metadata": {},
   "cell_type": "markdown",
   "source": "### Средние поступления по месяцам (на человека)",
   "id": "b41bdd168a174606"
  },
  {
   "metadata": {
    "ExecuteTime": {
     "end_time": "2025-06-10T13:52:59.983200Z",
     "start_time": "2025-06-10T13:52:59.781737Z"
    }
   },
   "cell_type": "code",
   "source": [
    "incomes = combined_data.groupby([combined_data['Дата операции'].dt.month]).apply(lambda group: pd.Series({'Средний доход': group['Поступление'].sum()/3})).round(2).reset_index().rename(columns={'Дата операции':'Номер месяца'})\n",
    "incomes_per_card = combined_data.groupby([combined_data['Дата операции'].dt.month]).apply(lambda group: pd.Series({'Средний доход': group['Поступление'].sum()/5})).round(2).reset_index().rename(columns={'Дата операции':'Номер месяца'})"
   ],
   "id": "f91ca4946ee9148a",
   "outputs": [],
   "execution_count": 29
  },
  {
   "metadata": {
    "ExecuteTime": {
     "end_time": "2025-06-10T13:53:00.167099Z",
     "start_time": "2025-06-10T13:53:00.145177Z"
    }
   },
   "cell_type": "code",
   "source": "incomes",
   "id": "61562470e7cfd20",
   "outputs": [
    {
     "data": {
      "text/plain": [
       "    Номер месяца  Средний доход\n",
       "0              1       13200.11\n",
       "1              2       73985.62\n",
       "2              3      299813.59\n",
       "3              4       34796.08\n",
       "4              5       57774.07\n",
       "5              6       96878.01\n",
       "6              7       75540.06\n",
       "7              8      138581.30\n",
       "8              9       98949.81\n",
       "9             10      215475.79\n",
       "10            11      424331.96\n",
       "11            12       46987.29"
      ],
      "text/html": [
       "<div>\n",
       "<style scoped>\n",
       "    .dataframe tbody tr th:only-of-type {\n",
       "        vertical-align: middle;\n",
       "    }\n",
       "\n",
       "    .dataframe tbody tr th {\n",
       "        vertical-align: top;\n",
       "    }\n",
       "\n",
       "    .dataframe thead th {\n",
       "        text-align: right;\n",
       "    }\n",
       "</style>\n",
       "<table border=\"1\" class=\"dataframe\">\n",
       "  <thead>\n",
       "    <tr style=\"text-align: right;\">\n",
       "      <th></th>\n",
       "      <th>Номер месяца</th>\n",
       "      <th>Средний доход</th>\n",
       "    </tr>\n",
       "  </thead>\n",
       "  <tbody>\n",
       "    <tr>\n",
       "      <th>0</th>\n",
       "      <td>1</td>\n",
       "      <td>13200.11</td>\n",
       "    </tr>\n",
       "    <tr>\n",
       "      <th>1</th>\n",
       "      <td>2</td>\n",
       "      <td>73985.62</td>\n",
       "    </tr>\n",
       "    <tr>\n",
       "      <th>2</th>\n",
       "      <td>3</td>\n",
       "      <td>299813.59</td>\n",
       "    </tr>\n",
       "    <tr>\n",
       "      <th>3</th>\n",
       "      <td>4</td>\n",
       "      <td>34796.08</td>\n",
       "    </tr>\n",
       "    <tr>\n",
       "      <th>4</th>\n",
       "      <td>5</td>\n",
       "      <td>57774.07</td>\n",
       "    </tr>\n",
       "    <tr>\n",
       "      <th>5</th>\n",
       "      <td>6</td>\n",
       "      <td>96878.01</td>\n",
       "    </tr>\n",
       "    <tr>\n",
       "      <th>6</th>\n",
       "      <td>7</td>\n",
       "      <td>75540.06</td>\n",
       "    </tr>\n",
       "    <tr>\n",
       "      <th>7</th>\n",
       "      <td>8</td>\n",
       "      <td>138581.30</td>\n",
       "    </tr>\n",
       "    <tr>\n",
       "      <th>8</th>\n",
       "      <td>9</td>\n",
       "      <td>98949.81</td>\n",
       "    </tr>\n",
       "    <tr>\n",
       "      <th>9</th>\n",
       "      <td>10</td>\n",
       "      <td>215475.79</td>\n",
       "    </tr>\n",
       "    <tr>\n",
       "      <th>10</th>\n",
       "      <td>11</td>\n",
       "      <td>424331.96</td>\n",
       "    </tr>\n",
       "    <tr>\n",
       "      <th>11</th>\n",
       "      <td>12</td>\n",
       "      <td>46987.29</td>\n",
       "    </tr>\n",
       "  </tbody>\n",
       "</table>\n",
       "</div>"
      ]
     },
     "execution_count": 30,
     "metadata": {},
     "output_type": "execute_result"
    }
   ],
   "execution_count": 30
  },
  {
   "metadata": {},
   "cell_type": "markdown",
   "source": "### Средние расходы по месяцам (на человека)",
   "id": "87c0ac5db3e3bc23"
  },
  {
   "metadata": {
    "ExecuteTime": {
     "end_time": "2025-06-10T13:53:00.896774Z",
     "start_time": "2025-06-10T13:53:00.779311Z"
    }
   },
   "cell_type": "code",
   "source": [
    "expenses = combined_data.groupby([combined_data['Дата операции'].dt.month]).apply(lambda group: pd.Series({'Средний расход': group['Расход'].sum()/3})).round(2).reset_index().rename(columns={'Дата операции':'Номер месяца'})\n",
    "expenses_per_card = combined_data.groupby([combined_data['Дата операции'].dt.month]).apply(lambda group: pd.Series({'Средний расход': group['Расход'].sum()/5})).round(2).reset_index().rename(columns={'Дата операции':'Номер месяца'})"
   ],
   "id": "4bde5cc76a74bb6e",
   "outputs": [],
   "execution_count": 31
  },
  {
   "metadata": {
    "ExecuteTime": {
     "end_time": "2025-06-10T13:53:01.449238Z",
     "start_time": "2025-06-10T13:53:01.381853Z"
    }
   },
   "cell_type": "code",
   "source": "expenses",
   "id": "f35e9b9d530f430c",
   "outputs": [
    {
     "data": {
      "text/plain": [
       "    Номер месяца  Средний расход\n",
       "0              1        60962.59\n",
       "1              2        73840.87\n",
       "2              3       312112.89\n",
       "3              4        40485.39\n",
       "4              5        56054.33\n",
       "5              6       103136.23\n",
       "6              7        83869.29\n",
       "7              8       144453.53\n",
       "8              9       105769.20\n",
       "9             10       229426.03\n",
       "10            11       466556.57\n",
       "11            12        68636.39"
      ],
      "text/html": [
       "<div>\n",
       "<style scoped>\n",
       "    .dataframe tbody tr th:only-of-type {\n",
       "        vertical-align: middle;\n",
       "    }\n",
       "\n",
       "    .dataframe tbody tr th {\n",
       "        vertical-align: top;\n",
       "    }\n",
       "\n",
       "    .dataframe thead th {\n",
       "        text-align: right;\n",
       "    }\n",
       "</style>\n",
       "<table border=\"1\" class=\"dataframe\">\n",
       "  <thead>\n",
       "    <tr style=\"text-align: right;\">\n",
       "      <th></th>\n",
       "      <th>Номер месяца</th>\n",
       "      <th>Средний расход</th>\n",
       "    </tr>\n",
       "  </thead>\n",
       "  <tbody>\n",
       "    <tr>\n",
       "      <th>0</th>\n",
       "      <td>1</td>\n",
       "      <td>60962.59</td>\n",
       "    </tr>\n",
       "    <tr>\n",
       "      <th>1</th>\n",
       "      <td>2</td>\n",
       "      <td>73840.87</td>\n",
       "    </tr>\n",
       "    <tr>\n",
       "      <th>2</th>\n",
       "      <td>3</td>\n",
       "      <td>312112.89</td>\n",
       "    </tr>\n",
       "    <tr>\n",
       "      <th>3</th>\n",
       "      <td>4</td>\n",
       "      <td>40485.39</td>\n",
       "    </tr>\n",
       "    <tr>\n",
       "      <th>4</th>\n",
       "      <td>5</td>\n",
       "      <td>56054.33</td>\n",
       "    </tr>\n",
       "    <tr>\n",
       "      <th>5</th>\n",
       "      <td>6</td>\n",
       "      <td>103136.23</td>\n",
       "    </tr>\n",
       "    <tr>\n",
       "      <th>6</th>\n",
       "      <td>7</td>\n",
       "      <td>83869.29</td>\n",
       "    </tr>\n",
       "    <tr>\n",
       "      <th>7</th>\n",
       "      <td>8</td>\n",
       "      <td>144453.53</td>\n",
       "    </tr>\n",
       "    <tr>\n",
       "      <th>8</th>\n",
       "      <td>9</td>\n",
       "      <td>105769.20</td>\n",
       "    </tr>\n",
       "    <tr>\n",
       "      <th>9</th>\n",
       "      <td>10</td>\n",
       "      <td>229426.03</td>\n",
       "    </tr>\n",
       "    <tr>\n",
       "      <th>10</th>\n",
       "      <td>11</td>\n",
       "      <td>466556.57</td>\n",
       "    </tr>\n",
       "    <tr>\n",
       "      <th>11</th>\n",
       "      <td>12</td>\n",
       "      <td>68636.39</td>\n",
       "    </tr>\n",
       "  </tbody>\n",
       "</table>\n",
       "</div>"
      ]
     },
     "execution_count": 32,
     "metadata": {},
     "output_type": "execute_result"
    }
   ],
   "execution_count": 32
  },
  {
   "metadata": {},
   "cell_type": "markdown",
   "source": "### Группировка доходов по картам и месяцам",
   "id": "1839be4cd88f594a"
  },
  {
   "metadata": {
    "ExecuteTime": {
     "end_time": "2025-06-10T13:53:02.407122Z",
     "start_time": "2025-06-10T13:53:02.097629Z"
    }
   },
   "cell_type": "code",
   "source": "combined_data.groupby([combined_data['Дата операции'].dt.month, 'Номер карты']).apply(lambda group: pd.Series({'Доход': group['Поступление'].sum()})).round(2).reset_index().rename(columns={'Дата операции':'Номер месяца'})",
   "id": "4549483d7a1f3989",
   "outputs": [
    {
     "name": "stderr",
     "output_type": "stream",
     "text": [
      "C:\\Users\\polle\\AppData\\Local\\Temp\\ipykernel_10376\\458120088.py:1: DeprecationWarning: DataFrameGroupBy.apply operated on the grouping columns. This behavior is deprecated, and in a future version of pandas the grouping columns will be excluded from the operation. Either pass `include_groups=False` to exclude the groupings or explicitly select the grouping columns after groupby to silence this warning.\n",
      "  combined_data.groupby([combined_data['Дата операции'].dt.month, 'Номер карты']).apply(lambda group: pd.Series({'Доход': group['Поступление'].sum()})).round(2).reset_index().rename(columns={'Дата операции':'Номер месяца'})\n"
     ]
    },
    {
     "data": {
      "text/plain": [
       "    Номер месяца Номер карты      Доход\n",
       "0              1         908       0.00\n",
       "1              1        1372       0.00\n",
       "2              1        4912   37855.00\n",
       "3              1        6877     240.00\n",
       "4              1        8988       0.00\n",
       "..           ...         ...        ...\n",
       "62            12         908       0.00\n",
       "63            12        4912  101868.43\n",
       "64            12        6877   37512.83\n",
       "65            12        8988       0.00\n",
       "66            12           —    1580.61\n",
       "\n",
       "[67 rows x 3 columns]"
      ],
      "text/html": [
       "<div>\n",
       "<style scoped>\n",
       "    .dataframe tbody tr th:only-of-type {\n",
       "        vertical-align: middle;\n",
       "    }\n",
       "\n",
       "    .dataframe tbody tr th {\n",
       "        vertical-align: top;\n",
       "    }\n",
       "\n",
       "    .dataframe thead th {\n",
       "        text-align: right;\n",
       "    }\n",
       "</style>\n",
       "<table border=\"1\" class=\"dataframe\">\n",
       "  <thead>\n",
       "    <tr style=\"text-align: right;\">\n",
       "      <th></th>\n",
       "      <th>Номер месяца</th>\n",
       "      <th>Номер карты</th>\n",
       "      <th>Доход</th>\n",
       "    </tr>\n",
       "  </thead>\n",
       "  <tbody>\n",
       "    <tr>\n",
       "      <th>0</th>\n",
       "      <td>1</td>\n",
       "      <td>908</td>\n",
       "      <td>0.00</td>\n",
       "    </tr>\n",
       "    <tr>\n",
       "      <th>1</th>\n",
       "      <td>1</td>\n",
       "      <td>1372</td>\n",
       "      <td>0.00</td>\n",
       "    </tr>\n",
       "    <tr>\n",
       "      <th>2</th>\n",
       "      <td>1</td>\n",
       "      <td>4912</td>\n",
       "      <td>37855.00</td>\n",
       "    </tr>\n",
       "    <tr>\n",
       "      <th>3</th>\n",
       "      <td>1</td>\n",
       "      <td>6877</td>\n",
       "      <td>240.00</td>\n",
       "    </tr>\n",
       "    <tr>\n",
       "      <th>4</th>\n",
       "      <td>1</td>\n",
       "      <td>8988</td>\n",
       "      <td>0.00</td>\n",
       "    </tr>\n",
       "    <tr>\n",
       "      <th>...</th>\n",
       "      <td>...</td>\n",
       "      <td>...</td>\n",
       "      <td>...</td>\n",
       "    </tr>\n",
       "    <tr>\n",
       "      <th>62</th>\n",
       "      <td>12</td>\n",
       "      <td>908</td>\n",
       "      <td>0.00</td>\n",
       "    </tr>\n",
       "    <tr>\n",
       "      <th>63</th>\n",
       "      <td>12</td>\n",
       "      <td>4912</td>\n",
       "      <td>101868.43</td>\n",
       "    </tr>\n",
       "    <tr>\n",
       "      <th>64</th>\n",
       "      <td>12</td>\n",
       "      <td>6877</td>\n",
       "      <td>37512.83</td>\n",
       "    </tr>\n",
       "    <tr>\n",
       "      <th>65</th>\n",
       "      <td>12</td>\n",
       "      <td>8988</td>\n",
       "      <td>0.00</td>\n",
       "    </tr>\n",
       "    <tr>\n",
       "      <th>66</th>\n",
       "      <td>12</td>\n",
       "      <td>—</td>\n",
       "      <td>1580.61</td>\n",
       "    </tr>\n",
       "  </tbody>\n",
       "</table>\n",
       "<p>67 rows × 3 columns</p>\n",
       "</div>"
      ]
     },
     "execution_count": 33,
     "metadata": {},
     "output_type": "execute_result"
    }
   ],
   "execution_count": 33
  },
  {
   "metadata": {},
   "cell_type": "markdown",
   "source": "### Группировка расходов по картам и месяцам",
   "id": "2eb24eb1feed1b58"
  },
  {
   "metadata": {
    "ExecuteTime": {
     "end_time": "2025-06-10T13:53:03.040175Z",
     "start_time": "2025-06-10T13:53:02.928660Z"
    }
   },
   "cell_type": "code",
   "source": "combined_data.groupby([combined_data['Дата операции'].dt.month, 'Номер карты']).apply(lambda group: pd.Series({'Расход': group['Расход'].sum()})).round(2).reset_index().rename(columns={'Дата операции':'Номер месяца'})",
   "id": "ec75b9f35fcbd69c",
   "outputs": [
    {
     "name": "stderr",
     "output_type": "stream",
     "text": [
      "C:\\Users\\polle\\AppData\\Local\\Temp\\ipykernel_10376\\1462038827.py:1: DeprecationWarning: DataFrameGroupBy.apply operated on the grouping columns. This behavior is deprecated, and in a future version of pandas the grouping columns will be excluded from the operation. Either pass `include_groups=False` to exclude the groupings or explicitly select the grouping columns after groupby to silence this warning.\n",
      "  combined_data.groupby([combined_data['Дата операции'].dt.month, 'Номер карты']).apply(lambda group: pd.Series({'Расход': group['Расход'].sum()})).round(2).reset_index().rename(columns={'Дата операции':'Номер месяца'})\n"
     ]
    },
    {
     "data": {
      "text/plain": [
       "    Номер месяца Номер карты     Расход\n",
       "0              1         908    5885.84\n",
       "1              1        1372   16000.00\n",
       "2              1        4912   42666.42\n",
       "3              1        6877    5853.00\n",
       "4              1        8988  112482.52\n",
       "..           ...         ...        ...\n",
       "62            12         908   10292.00\n",
       "63            12        4912  101868.43\n",
       "64            12        6877   28207.03\n",
       "65            12        8988   65541.70\n",
       "66            12           —       0.00\n",
       "\n",
       "[67 rows x 3 columns]"
      ],
      "text/html": [
       "<div>\n",
       "<style scoped>\n",
       "    .dataframe tbody tr th:only-of-type {\n",
       "        vertical-align: middle;\n",
       "    }\n",
       "\n",
       "    .dataframe tbody tr th {\n",
       "        vertical-align: top;\n",
       "    }\n",
       "\n",
       "    .dataframe thead th {\n",
       "        text-align: right;\n",
       "    }\n",
       "</style>\n",
       "<table border=\"1\" class=\"dataframe\">\n",
       "  <thead>\n",
       "    <tr style=\"text-align: right;\">\n",
       "      <th></th>\n",
       "      <th>Номер месяца</th>\n",
       "      <th>Номер карты</th>\n",
       "      <th>Расход</th>\n",
       "    </tr>\n",
       "  </thead>\n",
       "  <tbody>\n",
       "    <tr>\n",
       "      <th>0</th>\n",
       "      <td>1</td>\n",
       "      <td>908</td>\n",
       "      <td>5885.84</td>\n",
       "    </tr>\n",
       "    <tr>\n",
       "      <th>1</th>\n",
       "      <td>1</td>\n",
       "      <td>1372</td>\n",
       "      <td>16000.00</td>\n",
       "    </tr>\n",
       "    <tr>\n",
       "      <th>2</th>\n",
       "      <td>1</td>\n",
       "      <td>4912</td>\n",
       "      <td>42666.42</td>\n",
       "    </tr>\n",
       "    <tr>\n",
       "      <th>3</th>\n",
       "      <td>1</td>\n",
       "      <td>6877</td>\n",
       "      <td>5853.00</td>\n",
       "    </tr>\n",
       "    <tr>\n",
       "      <th>4</th>\n",
       "      <td>1</td>\n",
       "      <td>8988</td>\n",
       "      <td>112482.52</td>\n",
       "    </tr>\n",
       "    <tr>\n",
       "      <th>...</th>\n",
       "      <td>...</td>\n",
       "      <td>...</td>\n",
       "      <td>...</td>\n",
       "    </tr>\n",
       "    <tr>\n",
       "      <th>62</th>\n",
       "      <td>12</td>\n",
       "      <td>908</td>\n",
       "      <td>10292.00</td>\n",
       "    </tr>\n",
       "    <tr>\n",
       "      <th>63</th>\n",
       "      <td>12</td>\n",
       "      <td>4912</td>\n",
       "      <td>101868.43</td>\n",
       "    </tr>\n",
       "    <tr>\n",
       "      <th>64</th>\n",
       "      <td>12</td>\n",
       "      <td>6877</td>\n",
       "      <td>28207.03</td>\n",
       "    </tr>\n",
       "    <tr>\n",
       "      <th>65</th>\n",
       "      <td>12</td>\n",
       "      <td>8988</td>\n",
       "      <td>65541.70</td>\n",
       "    </tr>\n",
       "    <tr>\n",
       "      <th>66</th>\n",
       "      <td>12</td>\n",
       "      <td>—</td>\n",
       "      <td>0.00</td>\n",
       "    </tr>\n",
       "  </tbody>\n",
       "</table>\n",
       "<p>67 rows × 3 columns</p>\n",
       "</div>"
      ]
     },
     "execution_count": 34,
     "metadata": {},
     "output_type": "execute_result"
    }
   ],
   "execution_count": 34
  },
  {
   "metadata": {
    "ExecuteTime": {
     "end_time": "2025-06-10T13:53:07.155770Z",
     "start_time": "2025-06-10T13:53:03.663864Z"
    }
   },
   "cell_type": "code",
   "source": [
    "fig, ax = plt.subplots(1, 2, figsize=(10, 5))\n",
    "\n",
    "sns.lineplot(x=incomes['Номер месяца'], y=incomes['Средний доход'], color='blue', ax=ax[0])\n",
    "ax[0].set_title('Средние доходы по месяцам')\n",
    "ax[0].set_xlabel('Номер месяца')\n",
    "ax[0].set_ylabel('Сумма')\n",
    "\n",
    "sns.boxplot(incomes_per_card['Средний доход'], ax=ax[1], fill=False, color='yellow')\n",
    "ax[1].set_title('Средние доходы по месяцам (по карте)')\n",
    "ax[1].set_ylabel('Сумма')\n",
    "\n",
    "plt.tight_layout()\n",
    "plt.show()"
   ],
   "id": "7a8977d3ca491d73",
   "outputs": [
    {
     "data": {
      "text/plain": [
       "<Figure size 1000x500 with 2 Axes>"
      ],
      "image/png": "[encoded data removed]"
     },
     "metadata": {},
     "output_type": "display_data"
    }
   ],
   "execution_count": 35
  },
  {
   "metadata": {
    "ExecuteTime": {
     "end_time": "2025-06-10T13:53:09.143366Z",
     "start_time": "2025-06-10T13:53:08.297048Z"
    }
   },
   "cell_type": "code",
   "source": [
    "fig, ax = plt.subplots(1, 2, figsize=(10, 5))\n",
    "\n",
    "sns.lineplot(x=expenses['Номер месяца'], y=expenses['Средний расход'], color='purple', ax=ax[0])\n",
    "ax[0].set_title('Средние расходы по месяцам')\n",
    "ax[0].set_xlabel('Номер месяца')\n",
    "ax[0].set_ylabel('Сумма')\n",
    "\n",
    "sns.boxplot(expenses_per_card['Средний расход'], ax=ax[1], fill=False, color='orange')\n",
    "ax[1].set_title('Средние расходы по месяцам (по карте)')\n",
    "ax[1].set_ylabel('Сумма')\n",
    "\n",
    "plt.tight_layout()\n",
    "plt.show()"
   ],
   "id": "1839f077d8c7f271",
   "outputs": [
    {
     "data": {
      "text/plain": [
       "<Figure size 1000x500 with 2 Axes>"
      ],
      "image/png": "[encoded data removed]"
     },
     "metadata": {},
     "output_type": "display_data"
    }
   ],
   "execution_count": 36
  },
  {
   "metadata": {},
   "cell_type": "markdown",
   "source": [
    "Заметки:\n",
    "1. Боксплоты представлены по средним доходам/расходам по карте\n",
    "2. Значения, полученные при расчете средних доходов/расходов на человека, превышают ожидания за счет частых манипуляций с вкладами (открытие/закрытие/перевод) - практически ежемесячно. Можно заметить некоторую тенденцию, что операции с большими суммами происходят каждые три месяца. Возможно, что вклады использовались сроком на 3 месяца.\n",
    "3. Март, август, октябрь, ноябрь - самые доходные и затратные месяцы\n",
    "4. Самые распространенные операции - внутренние переводы и переводы СБП"
   ],
   "id": "eabc2a568dbbf9b"
  }
 ],
 "metadata": {
  "kernelspec": {
   "display_name": "Python 3",
   "language": "python",
   "name": "python3"
  },
  "language_info": {
   "codemirror_mode": {
    "name": "ipython",
    "version": 2
   },
   "file_extension": ".py",
   "mimetype": "text/x-python",
   "name": "python",
   "nbconvert_exporter": "python",
   "pygments_lexer": "ipython2",
   "version": "2.7.6"
  }
 },
 "nbformat": 4,
 "nbformat_minor": 5
}
